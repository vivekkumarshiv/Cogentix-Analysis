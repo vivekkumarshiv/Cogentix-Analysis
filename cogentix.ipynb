{
  "nbformat": 4,
  "nbformat_minor": 0,
  "metadata": {
    "colab": {
      "provenance": [],
      "authorship_tag": "ABX9TyN95NalYkzEJWx9il2DMjYd",
      "include_colab_link": true
    },
    "kernelspec": {
      "name": "python3",
      "display_name": "Python 3"
    },
    "language_info": {
      "name": "python"
    }
  },
  "cells": [
    {
      "cell_type": "markdown",
      "metadata": {
        "id": "view-in-github",
        "colab_type": "text"
      },
      "source": [
        "<a href=\"https://colab.research.google.com/github/vivekkumarshiv/Cogentix-Analysis/blob/main/cogentix.ipynb\" target=\"_parent\"><img src=\"https://colab.research.google.com/assets/colab-badge.svg\" alt=\"Open In Colab\"/></a>"
      ]
    },
    {
      "cell_type": "code",
      "source": [
        "import numpy as np\n",
        "import pandas as pd\n",
        "import matplotlib.pyplot as plt\n",
        "from sklearn.preprocessing import StandardScaler\n",
        "from imblearn.over_sampling import RandomOverSampler\n",
        "from sklearn.preprocessing import LabelEncoder"
      ],
      "metadata": {
        "id": "cHZ70HWVOYsq"
      },
      "execution_count": null,
      "outputs": []
    },
    {
      "cell_type": "markdown",
      "source": [
        "Here all all the imports required. Now we will load the dataset."
      ],
      "metadata": {
        "id": "v-VIvy5BOvzp"
      }
    },
    {
      "cell_type": "code",
      "source": [
        "df = pd.read_csv(\"DATASET.csv\")\n",
        "df.head()"
      ],
      "metadata": {
        "colab": {
          "base_uri": "https://localhost:8080/",
          "height": 330
        },
        "id": "I4uaQ0zCO2-z",
        "outputId": "ef41d3aa-8053-4fa0-b88a-3341ff5ef8e3"
      },
      "execution_count": null,
      "outputs": [
        {
          "output_type": "execute_result",
          "data": {
            "text/plain": [
              "  DOJ Extended  Duration to accept offer  Notice period Offered band  \\\n",
              "0          Yes                        14             30           E2   \n",
              "1           No                        18             30           E2   \n",
              "2           No                         3             45           E2   \n",
              "3           No                        26             30           E2   \n",
              "4          Yes                         1            120           E2   \n",
              "\n",
              "   Pecent hike expected in CTC  Percent hike offered in CTC  \\\n",
              "0                       -20.79                        13.16   \n",
              "1                        50.00                       320.00   \n",
              "2                        42.84                        42.84   \n",
              "3                        42.84                        42.84   \n",
              "4                        42.59                        42.59   \n",
              "\n",
              "   Percent difference CTC Joining Bonus Candidate relocate actual  Gender  \\\n",
              "0                   42.86            No                        No  Female   \n",
              "1                  180.00            No                        No    Male   \n",
              "2                    0.00            No                        No    Male   \n",
              "3                    0.00            No                        No    Male   \n",
              "4                    0.00            No                       Yes    Male   \n",
              "\n",
              "    Candidate Source  Rex in Yrs    LOB Location  Age  Status  \n",
              "0             Agency           7    ERS    Noida   34       1  \n",
              "1  Employee Referral           8  INFRA  Chennai   34       1  \n",
              "2             Agency           4  INFRA    Noida   27       1  \n",
              "3  Employee Referral           4  INFRA    Noida   34       1  \n",
              "4  Employee Referral           6  INFRA    Noida   34       1  "
            ],
            "text/html": [
              "\n",
              "  <div id=\"df-799729e3-eedb-49e0-94ad-ff2a0f4811c9\" class=\"colab-df-container\">\n",
              "    <div>\n",
              "<style scoped>\n",
              "    .dataframe tbody tr th:only-of-type {\n",
              "        vertical-align: middle;\n",
              "    }\n",
              "\n",
              "    .dataframe tbody tr th {\n",
              "        vertical-align: top;\n",
              "    }\n",
              "\n",
              "    .dataframe thead th {\n",
              "        text-align: right;\n",
              "    }\n",
              "</style>\n",
              "<table border=\"1\" class=\"dataframe\">\n",
              "  <thead>\n",
              "    <tr style=\"text-align: right;\">\n",
              "      <th></th>\n",
              "      <th>DOJ Extended</th>\n",
              "      <th>Duration to accept offer</th>\n",
              "      <th>Notice period</th>\n",
              "      <th>Offered band</th>\n",
              "      <th>Pecent hike expected in CTC</th>\n",
              "      <th>Percent hike offered in CTC</th>\n",
              "      <th>Percent difference CTC</th>\n",
              "      <th>Joining Bonus</th>\n",
              "      <th>Candidate relocate actual</th>\n",
              "      <th>Gender</th>\n",
              "      <th>Candidate Source</th>\n",
              "      <th>Rex in Yrs</th>\n",
              "      <th>LOB</th>\n",
              "      <th>Location</th>\n",
              "      <th>Age</th>\n",
              "      <th>Status</th>\n",
              "    </tr>\n",
              "  </thead>\n",
              "  <tbody>\n",
              "    <tr>\n",
              "      <th>0</th>\n",
              "      <td>Yes</td>\n",
              "      <td>14</td>\n",
              "      <td>30</td>\n",
              "      <td>E2</td>\n",
              "      <td>-20.79</td>\n",
              "      <td>13.16</td>\n",
              "      <td>42.86</td>\n",
              "      <td>No</td>\n",
              "      <td>No</td>\n",
              "      <td>Female</td>\n",
              "      <td>Agency</td>\n",
              "      <td>7</td>\n",
              "      <td>ERS</td>\n",
              "      <td>Noida</td>\n",
              "      <td>34</td>\n",
              "      <td>1</td>\n",
              "    </tr>\n",
              "    <tr>\n",
              "      <th>1</th>\n",
              "      <td>No</td>\n",
              "      <td>18</td>\n",
              "      <td>30</td>\n",
              "      <td>E2</td>\n",
              "      <td>50.00</td>\n",
              "      <td>320.00</td>\n",
              "      <td>180.00</td>\n",
              "      <td>No</td>\n",
              "      <td>No</td>\n",
              "      <td>Male</td>\n",
              "      <td>Employee Referral</td>\n",
              "      <td>8</td>\n",
              "      <td>INFRA</td>\n",
              "      <td>Chennai</td>\n",
              "      <td>34</td>\n",
              "      <td>1</td>\n",
              "    </tr>\n",
              "    <tr>\n",
              "      <th>2</th>\n",
              "      <td>No</td>\n",
              "      <td>3</td>\n",
              "      <td>45</td>\n",
              "      <td>E2</td>\n",
              "      <td>42.84</td>\n",
              "      <td>42.84</td>\n",
              "      <td>0.00</td>\n",
              "      <td>No</td>\n",
              "      <td>No</td>\n",
              "      <td>Male</td>\n",
              "      <td>Agency</td>\n",
              "      <td>4</td>\n",
              "      <td>INFRA</td>\n",
              "      <td>Noida</td>\n",
              "      <td>27</td>\n",
              "      <td>1</td>\n",
              "    </tr>\n",
              "    <tr>\n",
              "      <th>3</th>\n",
              "      <td>No</td>\n",
              "      <td>26</td>\n",
              "      <td>30</td>\n",
              "      <td>E2</td>\n",
              "      <td>42.84</td>\n",
              "      <td>42.84</td>\n",
              "      <td>0.00</td>\n",
              "      <td>No</td>\n",
              "      <td>No</td>\n",
              "      <td>Male</td>\n",
              "      <td>Employee Referral</td>\n",
              "      <td>4</td>\n",
              "      <td>INFRA</td>\n",
              "      <td>Noida</td>\n",
              "      <td>34</td>\n",
              "      <td>1</td>\n",
              "    </tr>\n",
              "    <tr>\n",
              "      <th>4</th>\n",
              "      <td>Yes</td>\n",
              "      <td>1</td>\n",
              "      <td>120</td>\n",
              "      <td>E2</td>\n",
              "      <td>42.59</td>\n",
              "      <td>42.59</td>\n",
              "      <td>0.00</td>\n",
              "      <td>No</td>\n",
              "      <td>Yes</td>\n",
              "      <td>Male</td>\n",
              "      <td>Employee Referral</td>\n",
              "      <td>6</td>\n",
              "      <td>INFRA</td>\n",
              "      <td>Noida</td>\n",
              "      <td>34</td>\n",
              "      <td>1</td>\n",
              "    </tr>\n",
              "  </tbody>\n",
              "</table>\n",
              "</div>\n",
              "    <div class=\"colab-df-buttons\">\n",
              "\n",
              "  <div class=\"colab-df-container\">\n",
              "    <button class=\"colab-df-convert\" onclick=\"convertToInteractive('df-799729e3-eedb-49e0-94ad-ff2a0f4811c9')\"\n",
              "            title=\"Convert this dataframe to an interactive table.\"\n",
              "            style=\"display:none;\">\n",
              "\n",
              "  <svg xmlns=\"http://www.w3.org/2000/svg\" height=\"24px\" viewBox=\"0 -960 960 960\">\n",
              "    <path d=\"M120-120v-720h720v720H120Zm60-500h600v-160H180v160Zm220 220h160v-160H400v160Zm0 220h160v-160H400v160ZM180-400h160v-160H180v160Zm440 0h160v-160H620v160ZM180-180h160v-160H180v160Zm440 0h160v-160H620v160Z\"/>\n",
              "  </svg>\n",
              "    </button>\n",
              "\n",
              "  <style>\n",
              "    .colab-df-container {\n",
              "      display:flex;\n",
              "      gap: 12px;\n",
              "    }\n",
              "\n",
              "    .colab-df-convert {\n",
              "      background-color: #E8F0FE;\n",
              "      border: none;\n",
              "      border-radius: 50%;\n",
              "      cursor: pointer;\n",
              "      display: none;\n",
              "      fill: #1967D2;\n",
              "      height: 32px;\n",
              "      padding: 0 0 0 0;\n",
              "      width: 32px;\n",
              "    }\n",
              "\n",
              "    .colab-df-convert:hover {\n",
              "      background-color: #E2EBFA;\n",
              "      box-shadow: 0px 1px 2px rgba(60, 64, 67, 0.3), 0px 1px 3px 1px rgba(60, 64, 67, 0.15);\n",
              "      fill: #174EA6;\n",
              "    }\n",
              "\n",
              "    .colab-df-buttons div {\n",
              "      margin-bottom: 4px;\n",
              "    }\n",
              "\n",
              "    [theme=dark] .colab-df-convert {\n",
              "      background-color: #3B4455;\n",
              "      fill: #D2E3FC;\n",
              "    }\n",
              "\n",
              "    [theme=dark] .colab-df-convert:hover {\n",
              "      background-color: #434B5C;\n",
              "      box-shadow: 0px 1px 3px 1px rgba(0, 0, 0, 0.15);\n",
              "      filter: drop-shadow(0px 1px 2px rgba(0, 0, 0, 0.3));\n",
              "      fill: #FFFFFF;\n",
              "    }\n",
              "  </style>\n",
              "\n",
              "    <script>\n",
              "      const buttonEl =\n",
              "        document.querySelector('#df-799729e3-eedb-49e0-94ad-ff2a0f4811c9 button.colab-df-convert');\n",
              "      buttonEl.style.display =\n",
              "        google.colab.kernel.accessAllowed ? 'block' : 'none';\n",
              "\n",
              "      async function convertToInteractive(key) {\n",
              "        const element = document.querySelector('#df-799729e3-eedb-49e0-94ad-ff2a0f4811c9');\n",
              "        const dataTable =\n",
              "          await google.colab.kernel.invokeFunction('convertToInteractive',\n",
              "                                                    [key], {});\n",
              "        if (!dataTable) return;\n",
              "\n",
              "        const docLinkHtml = 'Like what you see? Visit the ' +\n",
              "          '<a target=\"_blank\" href=https://colab.research.google.com/notebooks/data_table.ipynb>data table notebook</a>'\n",
              "          + ' to learn more about interactive tables.';\n",
              "        element.innerHTML = '';\n",
              "        dataTable['output_type'] = 'display_data';\n",
              "        await google.colab.output.renderOutput(dataTable, element);\n",
              "        const docLink = document.createElement('div');\n",
              "        docLink.innerHTML = docLinkHtml;\n",
              "        element.appendChild(docLink);\n",
              "      }\n",
              "    </script>\n",
              "  </div>\n",
              "\n",
              "\n",
              "<div id=\"df-2a20223c-88ef-4af9-8b78-17b4978d981e\">\n",
              "  <button class=\"colab-df-quickchart\" onclick=\"quickchart('df-2a20223c-88ef-4af9-8b78-17b4978d981e')\"\n",
              "            title=\"Suggest charts.\"\n",
              "            style=\"display:none;\">\n",
              "\n",
              "<svg xmlns=\"http://www.w3.org/2000/svg\" height=\"24px\"viewBox=\"0 0 24 24\"\n",
              "     width=\"24px\">\n",
              "    <g>\n",
              "        <path d=\"M19 3H5c-1.1 0-2 .9-2 2v14c0 1.1.9 2 2 2h14c1.1 0 2-.9 2-2V5c0-1.1-.9-2-2-2zM9 17H7v-7h2v7zm4 0h-2V7h2v10zm4 0h-2v-4h2v4z\"/>\n",
              "    </g>\n",
              "</svg>\n",
              "  </button>\n",
              "\n",
              "<style>\n",
              "  .colab-df-quickchart {\n",
              "      --bg-color: #E8F0FE;\n",
              "      --fill-color: #1967D2;\n",
              "      --hover-bg-color: #E2EBFA;\n",
              "      --hover-fill-color: #174EA6;\n",
              "      --disabled-fill-color: #AAA;\n",
              "      --disabled-bg-color: #DDD;\n",
              "  }\n",
              "\n",
              "  [theme=dark] .colab-df-quickchart {\n",
              "      --bg-color: #3B4455;\n",
              "      --fill-color: #D2E3FC;\n",
              "      --hover-bg-color: #434B5C;\n",
              "      --hover-fill-color: #FFFFFF;\n",
              "      --disabled-bg-color: #3B4455;\n",
              "      --disabled-fill-color: #666;\n",
              "  }\n",
              "\n",
              "  .colab-df-quickchart {\n",
              "    background-color: var(--bg-color);\n",
              "    border: none;\n",
              "    border-radius: 50%;\n",
              "    cursor: pointer;\n",
              "    display: none;\n",
              "    fill: var(--fill-color);\n",
              "    height: 32px;\n",
              "    padding: 0;\n",
              "    width: 32px;\n",
              "  }\n",
              "\n",
              "  .colab-df-quickchart:hover {\n",
              "    background-color: var(--hover-bg-color);\n",
              "    box-shadow: 0 1px 2px rgba(60, 64, 67, 0.3), 0 1px 3px 1px rgba(60, 64, 67, 0.15);\n",
              "    fill: var(--button-hover-fill-color);\n",
              "  }\n",
              "\n",
              "  .colab-df-quickchart-complete:disabled,\n",
              "  .colab-df-quickchart-complete:disabled:hover {\n",
              "    background-color: var(--disabled-bg-color);\n",
              "    fill: var(--disabled-fill-color);\n",
              "    box-shadow: none;\n",
              "  }\n",
              "\n",
              "  .colab-df-spinner {\n",
              "    border: 2px solid var(--fill-color);\n",
              "    border-color: transparent;\n",
              "    border-bottom-color: var(--fill-color);\n",
              "    animation:\n",
              "      spin 1s steps(1) infinite;\n",
              "  }\n",
              "\n",
              "  @keyframes spin {\n",
              "    0% {\n",
              "      border-color: transparent;\n",
              "      border-bottom-color: var(--fill-color);\n",
              "      border-left-color: var(--fill-color);\n",
              "    }\n",
              "    20% {\n",
              "      border-color: transparent;\n",
              "      border-left-color: var(--fill-color);\n",
              "      border-top-color: var(--fill-color);\n",
              "    }\n",
              "    30% {\n",
              "      border-color: transparent;\n",
              "      border-left-color: var(--fill-color);\n",
              "      border-top-color: var(--fill-color);\n",
              "      border-right-color: var(--fill-color);\n",
              "    }\n",
              "    40% {\n",
              "      border-color: transparent;\n",
              "      border-right-color: var(--fill-color);\n",
              "      border-top-color: var(--fill-color);\n",
              "    }\n",
              "    60% {\n",
              "      border-color: transparent;\n",
              "      border-right-color: var(--fill-color);\n",
              "    }\n",
              "    80% {\n",
              "      border-color: transparent;\n",
              "      border-right-color: var(--fill-color);\n",
              "      border-bottom-color: var(--fill-color);\n",
              "    }\n",
              "    90% {\n",
              "      border-color: transparent;\n",
              "      border-bottom-color: var(--fill-color);\n",
              "    }\n",
              "  }\n",
              "</style>\n",
              "\n",
              "  <script>\n",
              "    async function quickchart(key) {\n",
              "      const quickchartButtonEl =\n",
              "        document.querySelector('#' + key + ' button');\n",
              "      quickchartButtonEl.disabled = true;  // To prevent multiple clicks.\n",
              "      quickchartButtonEl.classList.add('colab-df-spinner');\n",
              "      try {\n",
              "        const charts = await google.colab.kernel.invokeFunction(\n",
              "            'suggestCharts', [key], {});\n",
              "      } catch (error) {\n",
              "        console.error('Error during call to suggestCharts:', error);\n",
              "      }\n",
              "      quickchartButtonEl.classList.remove('colab-df-spinner');\n",
              "      quickchartButtonEl.classList.add('colab-df-quickchart-complete');\n",
              "    }\n",
              "    (() => {\n",
              "      let quickchartButtonEl =\n",
              "        document.querySelector('#df-2a20223c-88ef-4af9-8b78-17b4978d981e button');\n",
              "      quickchartButtonEl.style.display =\n",
              "        google.colab.kernel.accessAllowed ? 'block' : 'none';\n",
              "    })();\n",
              "  </script>\n",
              "</div>\n",
              "    </div>\n",
              "  </div>\n"
            ]
          },
          "metadata": {},
          "execution_count": 2
        }
      ]
    },
    {
      "cell_type": "code",
      "source": [
        "categorical_columns = ['DOJ Extended', 'Offered band','Joining Bonus','Candidate relocate actual','Gender','Candidate Source','LOB','Location']\n",
        "le = LabelEncoder()\n",
        "for col in categorical_columns:\n",
        "    df[col] = le.fit_transform(df[col])\n",
        "\n",
        "df.head()"
      ],
      "metadata": {
        "colab": {
          "base_uri": "https://localhost:8080/",
          "height": 278
        },
        "id": "XsjMMSczRid6",
        "outputId": "a178c1b4-22b2-48a1-a3b8-35f5d151c48f"
      },
      "execution_count": null,
      "outputs": [
        {
          "output_type": "execute_result",
          "data": {
            "text/plain": [
              "   DOJ Extended  Duration to accept offer  Notice period  Offered band  \\\n",
              "0             1                        14             30             2   \n",
              "1             0                        18             30             2   \n",
              "2             0                         3             45             2   \n",
              "3             0                        26             30             2   \n",
              "4             1                         1            120             2   \n",
              "\n",
              "   Pecent hike expected in CTC  Percent hike offered in CTC  \\\n",
              "0                       -20.79                        13.16   \n",
              "1                        50.00                       320.00   \n",
              "2                        42.84                        42.84   \n",
              "3                        42.84                        42.84   \n",
              "4                        42.59                        42.59   \n",
              "\n",
              "   Percent difference CTC  Joining Bonus  Candidate relocate actual  Gender  \\\n",
              "0                   42.86              0                          0       0   \n",
              "1                  180.00              0                          0       1   \n",
              "2                    0.00              0                          0       1   \n",
              "3                    0.00              0                          0       1   \n",
              "4                    0.00              0                          1       1   \n",
              "\n",
              "   Candidate Source  Rex in Yrs  LOB  Location  Age  Status  \n",
              "0                 0           7    4         8   34       1  \n",
              "1                 2           8    7         2   34       1  \n",
              "2                 0           4    7         8   27       1  \n",
              "3                 2           4    7         8   34       1  \n",
              "4                 2           6    7         8   34       1  "
            ],
            "text/html": [
              "\n",
              "  <div id=\"df-5bad0b04-1107-4920-a9d2-9cb1a89e8bf4\" class=\"colab-df-container\">\n",
              "    <div>\n",
              "<style scoped>\n",
              "    .dataframe tbody tr th:only-of-type {\n",
              "        vertical-align: middle;\n",
              "    }\n",
              "\n",
              "    .dataframe tbody tr th {\n",
              "        vertical-align: top;\n",
              "    }\n",
              "\n",
              "    .dataframe thead th {\n",
              "        text-align: right;\n",
              "    }\n",
              "</style>\n",
              "<table border=\"1\" class=\"dataframe\">\n",
              "  <thead>\n",
              "    <tr style=\"text-align: right;\">\n",
              "      <th></th>\n",
              "      <th>DOJ Extended</th>\n",
              "      <th>Duration to accept offer</th>\n",
              "      <th>Notice period</th>\n",
              "      <th>Offered band</th>\n",
              "      <th>Pecent hike expected in CTC</th>\n",
              "      <th>Percent hike offered in CTC</th>\n",
              "      <th>Percent difference CTC</th>\n",
              "      <th>Joining Bonus</th>\n",
              "      <th>Candidate relocate actual</th>\n",
              "      <th>Gender</th>\n",
              "      <th>Candidate Source</th>\n",
              "      <th>Rex in Yrs</th>\n",
              "      <th>LOB</th>\n",
              "      <th>Location</th>\n",
              "      <th>Age</th>\n",
              "      <th>Status</th>\n",
              "    </tr>\n",
              "  </thead>\n",
              "  <tbody>\n",
              "    <tr>\n",
              "      <th>0</th>\n",
              "      <td>1</td>\n",
              "      <td>14</td>\n",
              "      <td>30</td>\n",
              "      <td>2</td>\n",
              "      <td>-20.79</td>\n",
              "      <td>13.16</td>\n",
              "      <td>42.86</td>\n",
              "      <td>0</td>\n",
              "      <td>0</td>\n",
              "      <td>0</td>\n",
              "      <td>0</td>\n",
              "      <td>7</td>\n",
              "      <td>4</td>\n",
              "      <td>8</td>\n",
              "      <td>34</td>\n",
              "      <td>1</td>\n",
              "    </tr>\n",
              "    <tr>\n",
              "      <th>1</th>\n",
              "      <td>0</td>\n",
              "      <td>18</td>\n",
              "      <td>30</td>\n",
              "      <td>2</td>\n",
              "      <td>50.00</td>\n",
              "      <td>320.00</td>\n",
              "      <td>180.00</td>\n",
              "      <td>0</td>\n",
              "      <td>0</td>\n",
              "      <td>1</td>\n",
              "      <td>2</td>\n",
              "      <td>8</td>\n",
              "      <td>7</td>\n",
              "      <td>2</td>\n",
              "      <td>34</td>\n",
              "      <td>1</td>\n",
              "    </tr>\n",
              "    <tr>\n",
              "      <th>2</th>\n",
              "      <td>0</td>\n",
              "      <td>3</td>\n",
              "      <td>45</td>\n",
              "      <td>2</td>\n",
              "      <td>42.84</td>\n",
              "      <td>42.84</td>\n",
              "      <td>0.00</td>\n",
              "      <td>0</td>\n",
              "      <td>0</td>\n",
              "      <td>1</td>\n",
              "      <td>0</td>\n",
              "      <td>4</td>\n",
              "      <td>7</td>\n",
              "      <td>8</td>\n",
              "      <td>27</td>\n",
              "      <td>1</td>\n",
              "    </tr>\n",
              "    <tr>\n",
              "      <th>3</th>\n",
              "      <td>0</td>\n",
              "      <td>26</td>\n",
              "      <td>30</td>\n",
              "      <td>2</td>\n",
              "      <td>42.84</td>\n",
              "      <td>42.84</td>\n",
              "      <td>0.00</td>\n",
              "      <td>0</td>\n",
              "      <td>0</td>\n",
              "      <td>1</td>\n",
              "      <td>2</td>\n",
              "      <td>4</td>\n",
              "      <td>7</td>\n",
              "      <td>8</td>\n",
              "      <td>34</td>\n",
              "      <td>1</td>\n",
              "    </tr>\n",
              "    <tr>\n",
              "      <th>4</th>\n",
              "      <td>1</td>\n",
              "      <td>1</td>\n",
              "      <td>120</td>\n",
              "      <td>2</td>\n",
              "      <td>42.59</td>\n",
              "      <td>42.59</td>\n",
              "      <td>0.00</td>\n",
              "      <td>0</td>\n",
              "      <td>1</td>\n",
              "      <td>1</td>\n",
              "      <td>2</td>\n",
              "      <td>6</td>\n",
              "      <td>7</td>\n",
              "      <td>8</td>\n",
              "      <td>34</td>\n",
              "      <td>1</td>\n",
              "    </tr>\n",
              "  </tbody>\n",
              "</table>\n",
              "</div>\n",
              "    <div class=\"colab-df-buttons\">\n",
              "\n",
              "  <div class=\"colab-df-container\">\n",
              "    <button class=\"colab-df-convert\" onclick=\"convertToInteractive('df-5bad0b04-1107-4920-a9d2-9cb1a89e8bf4')\"\n",
              "            title=\"Convert this dataframe to an interactive table.\"\n",
              "            style=\"display:none;\">\n",
              "\n",
              "  <svg xmlns=\"http://www.w3.org/2000/svg\" height=\"24px\" viewBox=\"0 -960 960 960\">\n",
              "    <path d=\"M120-120v-720h720v720H120Zm60-500h600v-160H180v160Zm220 220h160v-160H400v160Zm0 220h160v-160H400v160ZM180-400h160v-160H180v160Zm440 0h160v-160H620v160ZM180-180h160v-160H180v160Zm440 0h160v-160H620v160Z\"/>\n",
              "  </svg>\n",
              "    </button>\n",
              "\n",
              "  <style>\n",
              "    .colab-df-container {\n",
              "      display:flex;\n",
              "      gap: 12px;\n",
              "    }\n",
              "\n",
              "    .colab-df-convert {\n",
              "      background-color: #E8F0FE;\n",
              "      border: none;\n",
              "      border-radius: 50%;\n",
              "      cursor: pointer;\n",
              "      display: none;\n",
              "      fill: #1967D2;\n",
              "      height: 32px;\n",
              "      padding: 0 0 0 0;\n",
              "      width: 32px;\n",
              "    }\n",
              "\n",
              "    .colab-df-convert:hover {\n",
              "      background-color: #E2EBFA;\n",
              "      box-shadow: 0px 1px 2px rgba(60, 64, 67, 0.3), 0px 1px 3px 1px rgba(60, 64, 67, 0.15);\n",
              "      fill: #174EA6;\n",
              "    }\n",
              "\n",
              "    .colab-df-buttons div {\n",
              "      margin-bottom: 4px;\n",
              "    }\n",
              "\n",
              "    [theme=dark] .colab-df-convert {\n",
              "      background-color: #3B4455;\n",
              "      fill: #D2E3FC;\n",
              "    }\n",
              "\n",
              "    [theme=dark] .colab-df-convert:hover {\n",
              "      background-color: #434B5C;\n",
              "      box-shadow: 0px 1px 3px 1px rgba(0, 0, 0, 0.15);\n",
              "      filter: drop-shadow(0px 1px 2px rgba(0, 0, 0, 0.3));\n",
              "      fill: #FFFFFF;\n",
              "    }\n",
              "  </style>\n",
              "\n",
              "    <script>\n",
              "      const buttonEl =\n",
              "        document.querySelector('#df-5bad0b04-1107-4920-a9d2-9cb1a89e8bf4 button.colab-df-convert');\n",
              "      buttonEl.style.display =\n",
              "        google.colab.kernel.accessAllowed ? 'block' : 'none';\n",
              "\n",
              "      async function convertToInteractive(key) {\n",
              "        const element = document.querySelector('#df-5bad0b04-1107-4920-a9d2-9cb1a89e8bf4');\n",
              "        const dataTable =\n",
              "          await google.colab.kernel.invokeFunction('convertToInteractive',\n",
              "                                                    [key], {});\n",
              "        if (!dataTable) return;\n",
              "\n",
              "        const docLinkHtml = 'Like what you see? Visit the ' +\n",
              "          '<a target=\"_blank\" href=https://colab.research.google.com/notebooks/data_table.ipynb>data table notebook</a>'\n",
              "          + ' to learn more about interactive tables.';\n",
              "        element.innerHTML = '';\n",
              "        dataTable['output_type'] = 'display_data';\n",
              "        await google.colab.output.renderOutput(dataTable, element);\n",
              "        const docLink = document.createElement('div');\n",
              "        docLink.innerHTML = docLinkHtml;\n",
              "        element.appendChild(docLink);\n",
              "      }\n",
              "    </script>\n",
              "  </div>\n",
              "\n",
              "\n",
              "<div id=\"df-fb7e1279-91b0-4809-acef-f0c4478fe454\">\n",
              "  <button class=\"colab-df-quickchart\" onclick=\"quickchart('df-fb7e1279-91b0-4809-acef-f0c4478fe454')\"\n",
              "            title=\"Suggest charts.\"\n",
              "            style=\"display:none;\">\n",
              "\n",
              "<svg xmlns=\"http://www.w3.org/2000/svg\" height=\"24px\"viewBox=\"0 0 24 24\"\n",
              "     width=\"24px\">\n",
              "    <g>\n",
              "        <path d=\"M19 3H5c-1.1 0-2 .9-2 2v14c0 1.1.9 2 2 2h14c1.1 0 2-.9 2-2V5c0-1.1-.9-2-2-2zM9 17H7v-7h2v7zm4 0h-2V7h2v10zm4 0h-2v-4h2v4z\"/>\n",
              "    </g>\n",
              "</svg>\n",
              "  </button>\n",
              "\n",
              "<style>\n",
              "  .colab-df-quickchart {\n",
              "      --bg-color: #E8F0FE;\n",
              "      --fill-color: #1967D2;\n",
              "      --hover-bg-color: #E2EBFA;\n",
              "      --hover-fill-color: #174EA6;\n",
              "      --disabled-fill-color: #AAA;\n",
              "      --disabled-bg-color: #DDD;\n",
              "  }\n",
              "\n",
              "  [theme=dark] .colab-df-quickchart {\n",
              "      --bg-color: #3B4455;\n",
              "      --fill-color: #D2E3FC;\n",
              "      --hover-bg-color: #434B5C;\n",
              "      --hover-fill-color: #FFFFFF;\n",
              "      --disabled-bg-color: #3B4455;\n",
              "      --disabled-fill-color: #666;\n",
              "  }\n",
              "\n",
              "  .colab-df-quickchart {\n",
              "    background-color: var(--bg-color);\n",
              "    border: none;\n",
              "    border-radius: 50%;\n",
              "    cursor: pointer;\n",
              "    display: none;\n",
              "    fill: var(--fill-color);\n",
              "    height: 32px;\n",
              "    padding: 0;\n",
              "    width: 32px;\n",
              "  }\n",
              "\n",
              "  .colab-df-quickchart:hover {\n",
              "    background-color: var(--hover-bg-color);\n",
              "    box-shadow: 0 1px 2px rgba(60, 64, 67, 0.3), 0 1px 3px 1px rgba(60, 64, 67, 0.15);\n",
              "    fill: var(--button-hover-fill-color);\n",
              "  }\n",
              "\n",
              "  .colab-df-quickchart-complete:disabled,\n",
              "  .colab-df-quickchart-complete:disabled:hover {\n",
              "    background-color: var(--disabled-bg-color);\n",
              "    fill: var(--disabled-fill-color);\n",
              "    box-shadow: none;\n",
              "  }\n",
              "\n",
              "  .colab-df-spinner {\n",
              "    border: 2px solid var(--fill-color);\n",
              "    border-color: transparent;\n",
              "    border-bottom-color: var(--fill-color);\n",
              "    animation:\n",
              "      spin 1s steps(1) infinite;\n",
              "  }\n",
              "\n",
              "  @keyframes spin {\n",
              "    0% {\n",
              "      border-color: transparent;\n",
              "      border-bottom-color: var(--fill-color);\n",
              "      border-left-color: var(--fill-color);\n",
              "    }\n",
              "    20% {\n",
              "      border-color: transparent;\n",
              "      border-left-color: var(--fill-color);\n",
              "      border-top-color: var(--fill-color);\n",
              "    }\n",
              "    30% {\n",
              "      border-color: transparent;\n",
              "      border-left-color: var(--fill-color);\n",
              "      border-top-color: var(--fill-color);\n",
              "      border-right-color: var(--fill-color);\n",
              "    }\n",
              "    40% {\n",
              "      border-color: transparent;\n",
              "      border-right-color: var(--fill-color);\n",
              "      border-top-color: var(--fill-color);\n",
              "    }\n",
              "    60% {\n",
              "      border-color: transparent;\n",
              "      border-right-color: var(--fill-color);\n",
              "    }\n",
              "    80% {\n",
              "      border-color: transparent;\n",
              "      border-right-color: var(--fill-color);\n",
              "      border-bottom-color: var(--fill-color);\n",
              "    }\n",
              "    90% {\n",
              "      border-color: transparent;\n",
              "      border-bottom-color: var(--fill-color);\n",
              "    }\n",
              "  }\n",
              "</style>\n",
              "\n",
              "  <script>\n",
              "    async function quickchart(key) {\n",
              "      const quickchartButtonEl =\n",
              "        document.querySelector('#' + key + ' button');\n",
              "      quickchartButtonEl.disabled = true;  // To prevent multiple clicks.\n",
              "      quickchartButtonEl.classList.add('colab-df-spinner');\n",
              "      try {\n",
              "        const charts = await google.colab.kernel.invokeFunction(\n",
              "            'suggestCharts', [key], {});\n",
              "      } catch (error) {\n",
              "        console.error('Error during call to suggestCharts:', error);\n",
              "      }\n",
              "      quickchartButtonEl.classList.remove('colab-df-spinner');\n",
              "      quickchartButtonEl.classList.add('colab-df-quickchart-complete');\n",
              "    }\n",
              "    (() => {\n",
              "      let quickchartButtonEl =\n",
              "        document.querySelector('#df-fb7e1279-91b0-4809-acef-f0c4478fe454 button');\n",
              "      quickchartButtonEl.style.display =\n",
              "        google.colab.kernel.accessAllowed ? 'block' : 'none';\n",
              "    })();\n",
              "  </script>\n",
              "</div>\n",
              "    </div>\n",
              "  </div>\n"
            ]
          },
          "metadata": {},
          "execution_count": 3
        }
      ]
    },
    {
      "cell_type": "code",
      "source": [
        "for label in df.columns[:-1]:\n",
        "  plt.hist(df[df[\"Status\"]==1][label], color='blue', label='gamma', alpha=0.7, density=True)\n",
        "  plt.hist(df[df[\"Status\"]==0][label], color='red', label='hadron', alpha=0.7, density=True)\n",
        "  plt.title(label)\n",
        "  plt.ylabel(\"Probability\")\n",
        "  plt.xlabel(label)\n",
        "  plt.legend()\n",
        "  plt.show()"
      ],
      "metadata": {
        "id": "MT878G17PWoD"
      },
      "execution_count": null,
      "outputs": []
    },
    {
      "cell_type": "markdown",
      "source": [
        "Lets check if there are any missing values"
      ],
      "metadata": {
        "id": "Nxi_ZVl6WtZ5"
      }
    },
    {
      "cell_type": "code",
      "source": [
        "duplicates = df[df.duplicated()]\n",
        "\n",
        "print(\"Duplicate Entries:\")\n",
        "print(duplicates)"
      ],
      "metadata": {
        "colab": {
          "base_uri": "https://localhost:8080/"
        },
        "id": "8BtPSlCYXhJp",
        "outputId": "77b2879b-f54f-4135-beee-e9aa6fef9b22"
      },
      "execution_count": null,
      "outputs": [
        {
          "output_type": "stream",
          "name": "stdout",
          "text": [
            "Duplicate Entries:\n",
            "Empty DataFrame\n",
            "Columns: [DOJ Extended, Duration to accept offer, Notice period, Offered band, Pecent hike expected in CTC, Percent hike offered in CTC, Percent difference CTC, Joining Bonus, Candidate relocate actual, Gender, Candidate Source, Rex in Yrs, LOB, Location, Age, Status]\n",
            "Index: []\n"
          ]
        }
      ]
    },
    {
      "cell_type": "code",
      "source": [
        "\n",
        "df = df.drop_duplicates()\n"
      ],
      "metadata": {
        "id": "e0YaiGfYYK8a"
      },
      "execution_count": null,
      "outputs": []
    },
    {
      "cell_type": "code",
      "source": [
        "missing_values = df.isnull().sum()\n",
        "\n",
        "\n",
        "print(\"Columns with missing values:\")\n",
        "print(missing_values[missing_values > 0])"
      ],
      "metadata": {
        "colab": {
          "base_uri": "https://localhost:8080/"
        },
        "id": "Ood_nlboWi6J",
        "outputId": "64b6bfd2-dfd3-4342-9afa-4b25a6a0e90b"
      },
      "execution_count": null,
      "outputs": [
        {
          "output_type": "stream",
          "name": "stdout",
          "text": [
            "Columns with missing values:\n",
            "Series([], dtype: int64)\n"
          ]
        }
      ]
    },
    {
      "cell_type": "markdown",
      "source": [
        "**Now lets see the the data is balanced or not.**"
      ],
      "metadata": {
        "id": "pgCHb57jQhxJ"
      }
    },
    {
      "cell_type": "code",
      "source": [
        "status_counts = df['Status'].value_counts()\n",
        "print(status_counts)"
      ],
      "metadata": {
        "colab": {
          "base_uri": "https://localhost:8080/"
        },
        "id": "e48n-hYiQl_I",
        "outputId": "089aa5b8-c43e-4c62-ef50-6ad002b172e8"
      },
      "execution_count": null,
      "outputs": [
        {
          "output_type": "stream",
          "name": "stdout",
          "text": [
            "1    7194\n",
            "0    1657\n",
            "Name: Status, dtype: int64\n"
          ]
        }
      ]
    },
    {
      "cell_type": "markdown",
      "source": [
        "Clearly the datasheet is unbalanced.In order to train the model,we need to add random values"
      ],
      "metadata": {
        "id": "_IuJMZb3QsXJ"
      }
    },
    {
      "cell_type": "code",
      "source": [
        "train, valid, test = np.split(df.sample(frac=1), [int(0.6*len(df)), int(0.8*len(df))])"
      ],
      "metadata": {
        "id": "7xXhDqGeVAtU"
      },
      "execution_count": null,
      "outputs": []
    },
    {
      "cell_type": "code",
      "source": [
        "def scale_dataset(dataframe, oversample=False):\n",
        "  X = dataframe[dataframe.columns[:-1]].values\n",
        "  y = dataframe[dataframe.columns[-1]].values\n",
        "\n",
        "  scaler = StandardScaler()\n",
        "  X = scaler.fit_transform(X)\n",
        "\n",
        "  if oversample:\n",
        "    ros = RandomOverSampler()\n",
        "    X, y = ros.fit_resample(X, y)\n",
        "\n",
        "  data = np.hstack((X, np.reshape(y, (-1, 1))))\n",
        "\n",
        "  return data, X, y"
      ],
      "metadata": {
        "id": "KeJoIR6DQ074"
      },
      "execution_count": null,
      "outputs": []
    },
    {
      "cell_type": "code",
      "source": [
        "print(len(train[train['Status']==1]))\n",
        "print(len(train[train['Status']==0]))"
      ],
      "metadata": {
        "colab": {
          "base_uri": "https://localhost:8080/"
        },
        "id": "7y-ahQTvuWLJ",
        "outputId": "b7c14446-1577-4d4e-fd30-33e41ef536ae"
      },
      "execution_count": null,
      "outputs": [
        {
          "output_type": "stream",
          "name": "stdout",
          "text": [
            "4298\n",
            "1012\n"
          ]
        }
      ]
    },
    {
      "cell_type": "code",
      "source": [
        "train, X_train, y_train = scale_dataset(train, oversample=False)\n",
        "valid, X_valid, y_valid = scale_dataset(valid, oversample=False)\n",
        "test, X_test, y_test = scale_dataset(test, oversample=False)\n"
      ],
      "metadata": {
        "id": "GXlslcEBVGWP"
      },
      "execution_count": null,
      "outputs": []
    },
    {
      "cell_type": "code",
      "source": [
        "sum(y_train==1)\n",
        "\n"
      ],
      "metadata": {
        "colab": {
          "base_uri": "https://localhost:8080/"
        },
        "id": "QZymkBcPpCq5",
        "outputId": "7c174d4c-c306-4e8e-8391-d3a0a672dda7"
      },
      "execution_count": null,
      "outputs": [
        {
          "output_type": "execute_result",
          "data": {
            "text/plain": [
              "4298"
            ]
          },
          "metadata": {},
          "execution_count": 12
        }
      ]
    },
    {
      "cell_type": "code",
      "source": [
        "\n",
        "sum(y_train==0)"
      ],
      "metadata": {
        "colab": {
          "base_uri": "https://localhost:8080/"
        },
        "id": "1OXDwixHvXui",
        "outputId": "93adaa15-85cc-4c40-bfb8-4aac41eedadd"
      },
      "execution_count": null,
      "outputs": [
        {
          "output_type": "execute_result",
          "data": {
            "text/plain": [
              "1012"
            ]
          },
          "metadata": {},
          "execution_count": 13
        }
      ]
    },
    {
      "cell_type": "markdown",
      "source": [
        "# **KNN**"
      ],
      "metadata": {
        "id": "xQfEwZEVVg1D"
      }
    },
    {
      "cell_type": "code",
      "source": [
        "from sklearn.neighbors import KNeighborsClassifier\n",
        "from sklearn.metrics import classification_report\n",
        "\n",
        "knn = KNeighborsClassifier()\n",
        "knn=knn.fit(X_train, y_train)\n",
        "\n",
        "y_pred = knn.predict(X_test)\n",
        "print(classification_report(y_test, y_pred))"
      ],
      "metadata": {
        "colab": {
          "base_uri": "https://localhost:8080/"
        },
        "id": "cY3lGstJP9Yi",
        "outputId": "f1d02331-8ec8-424a-f0f3-fea934cf4635"
      },
      "execution_count": null,
      "outputs": [
        {
          "output_type": "stream",
          "name": "stdout",
          "text": [
            "              precision    recall  f1-score   support\n",
            "\n",
            "           0       0.43      0.27      0.33       300\n",
            "           1       0.86      0.93      0.89      1471\n",
            "\n",
            "    accuracy                           0.82      1771\n",
            "   macro avg       0.65      0.60      0.61      1771\n",
            "weighted avg       0.79      0.82      0.80      1771\n",
            "\n"
          ]
        }
      ]
    },
    {
      "cell_type": "markdown",
      "source": [
        "*Parameter optimization by finding best parameters*"
      ],
      "metadata": {
        "id": "Q9So6cr4QYoo"
      }
    },
    {
      "cell_type": "code",
      "source": [
        "from sklearn.neighbors import KNeighborsClassifier\n",
        "from sklearn.metrics import classification_report\n",
        "from sklearn.model_selection import GridSearchCV\n",
        "\n",
        "param_grid = {\n",
        "    'n_neighbors': [3, 5, 7, 9, 11],\n",
        "    'weights': ['uniform', 'distance'],\n",
        "    'p': [1, 2]\n",
        "}\n",
        "\n",
        "knn = KNeighborsClassifier()\n",
        "\n",
        "grid_search = GridSearchCV(knn, param_grid, cv=5, scoring='accuracy')\n",
        "grid_search.fit(X_train, y_train)\n",
        "\n",
        "best_params = grid_search.best_params_\n",
        "best_accuracy = grid_search.best_score_\n",
        "\n",
        "best_knn = KNeighborsClassifier(**best_params)\n",
        "best_knn.fit(X_train, y_train)\n",
        "\n",
        "test_accuracy = best_knn.score(X_test, y_test)\n",
        "\n",
        "print(\"Best Hyperparameters:\", best_params)\n",
        "print(\"Best Training Accuracy:\", best_accuracy)\n",
        "print(\"Test Accuracy with Best Hyperparameters:\", test_accuracy)"
      ],
      "metadata": {
        "colab": {
          "base_uri": "https://localhost:8080/"
        },
        "id": "pTR_8ylBVMhh",
        "outputId": "9d6e75b8-29f0-4907-a797-8681a1a06a24"
      },
      "execution_count": null,
      "outputs": [
        {
          "output_type": "stream",
          "name": "stdout",
          "text": [
            "Best Hyperparameters: {'n_neighbors': 11, 'p': 1, 'weights': 'uniform'}\n",
            "Best Training Accuracy: 0.8128060263653485\n",
            "Test Accuracy with Best Hyperparameters: 0.8260869565217391\n"
          ]
        }
      ]
    },
    {
      "cell_type": "code",
      "source": [
        "sum(y_train==1)"
      ],
      "metadata": {
        "colab": {
          "base_uri": "https://localhost:8080/"
        },
        "id": "ehfqB0oQ1vNe",
        "outputId": "26852363-c795-4b88-9389-c3ece313b20a"
      },
      "execution_count": null,
      "outputs": [
        {
          "output_type": "execute_result",
          "data": {
            "text/plain": [
              "4319"
            ]
          },
          "metadata": {},
          "execution_count": 109
        }
      ]
    },
    {
      "cell_type": "markdown",
      "source": [
        "# **LOG REGRESSION**"
      ],
      "metadata": {
        "id": "wSCmLdLhvkBK"
      }
    },
    {
      "cell_type": "code",
      "source": [
        "from sklearn.linear_model import LogisticRegression\n",
        "from sklearn.metrics import classification_report\n",
        "\n",
        "lg_model = LogisticRegression()\n",
        "lg_model = lg_model.fit(X_train, y_train)\n",
        "\n",
        "y_pred = lg_model.predict(X_test)\n",
        "print(classification_report(y_test, y_pred))"
      ],
      "metadata": {
        "colab": {
          "base_uri": "https://localhost:8080/"
        },
        "id": "hW9MqZFZvvo6",
        "outputId": "5b6abf40-d103-4ad7-c0f6-89ae154d0400"
      },
      "execution_count": null,
      "outputs": [
        {
          "output_type": "stream",
          "name": "stdout",
          "text": [
            "              precision    recall  f1-score   support\n",
            "\n",
            "           0       0.64      0.09      0.16       300\n",
            "           1       0.84      0.99      0.91      1471\n",
            "\n",
            "    accuracy                           0.84      1771\n",
            "   macro avg       0.74      0.54      0.53      1771\n",
            "weighted avg       0.81      0.84      0.78      1771\n",
            "\n"
          ]
        }
      ]
    },
    {
      "cell_type": "markdown",
      "source": [
        "*Parameter optimization by finding best parameters*"
      ],
      "metadata": {
        "id": "0lIc2cAuQ6qO"
      }
    },
    {
      "cell_type": "code",
      "source": [
        "from sklearn.model_selection import GridSearchCV\n",
        "from sklearn.linear_model import LogisticRegression\n",
        "from sklearn.model_selection import train_test_split\n",
        "\n",
        "\n",
        "\n",
        "\n",
        "\n",
        "\n",
        "param_grid = {\n",
        "    'C': [0.001, 0.01, 0.1, 1, 10, 100],\n",
        "    'penalty': ['l1', 'l2']\n",
        "}\n",
        "\n",
        "lr = LogisticRegression()\n",
        "\n",
        "grid_search = GridSearchCV(lr, param_grid, cv=5, scoring='accuracy')\n",
        "grid_search.fit(X_train, y_train)\n",
        "\n",
        "best_params = grid_search.best_params_\n",
        "best_accuracy = grid_search.best_score_\n",
        "\n",
        "best_lr = LogisticRegression(**best_params)\n",
        "\n",
        "best_lr.fit(X_train, y_train)\n",
        "\n",
        "\n",
        "test_accuracy = best_lr.score(X_test, y_test)\n",
        "\n",
        "print(\"Best Hyperparameters:\", best_params)\n",
        "print(\"Best Training Accuracy:\", best_accuracy)\n",
        "print(\"Test Accuracy with Best Hyperparameters:\", test_accuracy)\n"
      ],
      "metadata": {
        "colab": {
          "base_uri": "https://localhost:8080/"
        },
        "id": "u8IZbPIztJ1u",
        "outputId": "92b3ec3b-0881-4dfb-ccbf-1a1472152d12"
      },
      "execution_count": null,
      "outputs": [
        {
          "output_type": "stream",
          "name": "stdout",
          "text": [
            "Best Hyperparameters: {'C': 0.1, 'penalty': 'l2'}\n",
            "Best Training Accuracy: 0.8099811676082863\n",
            "Test Accuracy with Best Hyperparameters: 0.8198757763975155\n"
          ]
        },
        {
          "output_type": "stream",
          "name": "stderr",
          "text": [
            "/usr/local/lib/python3.10/dist-packages/sklearn/model_selection/_validation.py:378: FitFailedWarning: \n",
            "30 fits failed out of a total of 60.\n",
            "The score on these train-test partitions for these parameters will be set to nan.\n",
            "If these failures are not expected, you can try to debug them by setting error_score='raise'.\n",
            "\n",
            "Below are more details about the failures:\n",
            "--------------------------------------------------------------------------------\n",
            "30 fits failed with the following error:\n",
            "Traceback (most recent call last):\n",
            "  File \"/usr/local/lib/python3.10/dist-packages/sklearn/model_selection/_validation.py\", line 686, in _fit_and_score\n",
            "    estimator.fit(X_train, y_train, **fit_params)\n",
            "  File \"/usr/local/lib/python3.10/dist-packages/sklearn/linear_model/_logistic.py\", line 1162, in fit\n",
            "    solver = _check_solver(self.solver, self.penalty, self.dual)\n",
            "  File \"/usr/local/lib/python3.10/dist-packages/sklearn/linear_model/_logistic.py\", line 54, in _check_solver\n",
            "    raise ValueError(\n",
            "ValueError: Solver lbfgs supports only 'l2' or 'none' penalties, got l1 penalty.\n",
            "\n",
            "  warnings.warn(some_fits_failed_message, FitFailedWarning)\n",
            "/usr/local/lib/python3.10/dist-packages/sklearn/model_selection/_search.py:952: UserWarning: One or more of the test scores are non-finite: [       nan 0.8094162         nan 0.80979284        nan 0.80998117\n",
            "        nan 0.80979284        nan 0.80979284        nan 0.80998117]\n",
            "  warnings.warn(\n"
          ]
        }
      ]
    },
    {
      "cell_type": "markdown",
      "source": [
        "*Gauging Features*"
      ],
      "metadata": {
        "id": "SO_HylYbTUav"
      }
    },
    {
      "cell_type": "code",
      "source": [
        "from sklearn.linear_model import LogisticRegression\n",
        "\n",
        "\n",
        "lr = LogisticRegression(C=0.1)\n",
        "lr.fit(X_train, y_train)\n",
        "\n",
        "\n",
        "coefficients = lr.coef_[0]\n",
        "\n",
        "\n",
        "feature_names =['DOJ Extended','Duration to accept offer', 'Notice period', 'Offered band', 'Pecent hike expected in CTC', 'Percent hike offered in CTC', 'Percent difference CTC', 'Joining Bonus', 'Candidate relocate actual', 'Gender', 'Candidate Source', 'Rex in Yrs', 'LOB', 'Location', 'Age', 'Status']\n",
        "\n",
        "\n",
        "feature_coefficients = dict(zip(feature_names, coefficients))\n",
        "\n",
        "sorted_features = sorted(feature_coefficients.items(), key=lambda x: abs(x[1]), reverse=True)\n",
        "\n",
        "for feature, coefficient in sorted_features:\n",
        "    print(f\"{feature}: {coefficient}\")\n"
      ],
      "metadata": {
        "colab": {
          "base_uri": "https://localhost:8080/"
        },
        "id": "pWwnwj4zTXki",
        "outputId": "5da67275-a126-4573-82d5-17d0a1a041cc"
      },
      "execution_count": null,
      "outputs": [
        {
          "output_type": "stream",
          "name": "stdout",
          "text": [
            "Candidate relocate actual: 1.3255019803889874\n",
            "Notice period: -0.45445320369496517\n",
            "Candidate Source: 0.2428308411854634\n",
            "Percent hike offered in CTC: 0.19382110910664146\n",
            "Age: 0.16458943131326173\n",
            "LOB: 0.153033116919581\n",
            "Location: 0.12851005927375878\n",
            "Pecent hike expected in CTC: -0.12192799831175379\n",
            "Rex in Yrs: -0.11708033707167154\n",
            "Gender: -0.08548165852890834\n",
            "Percent difference CTC: -0.07611502175019434\n",
            "DOJ Extended: 0.05544437518936717\n",
            "Joining Bonus: -0.04446987095592393\n",
            "Duration to accept offer: 0.017327899640115368\n",
            "Offered band: 0.008319112059438555\n"
          ]
        }
      ]
    },
    {
      "cell_type": "markdown",
      "source": [
        "# **SVC**"
      ],
      "metadata": {
        "id": "4pyNWcH2v_nY"
      }
    },
    {
      "cell_type": "code",
      "source": [
        "from sklearn.svm import SVC\n",
        "\n",
        "svm_model = SVC()\n",
        "svm_model = svm_model.fit(X_train, y_train)\n",
        "\n",
        "y_pred = svm_model.predict(X_test)\n",
        "print(classification_report(y_test, y_pred))"
      ],
      "metadata": {
        "colab": {
          "base_uri": "https://localhost:8080/"
        },
        "id": "xlWyfdLjwBbl",
        "outputId": "422e711d-5ac7-4cde-b2b2-bed5c841afa7"
      },
      "execution_count": null,
      "outputs": [
        {
          "output_type": "stream",
          "name": "stdout",
          "text": [
            "              precision    recall  f1-score   support\n",
            "\n",
            "           0       0.68      0.08      0.15       300\n",
            "           1       0.84      0.99      0.91      1471\n",
            "\n",
            "    accuracy                           0.84      1771\n",
            "   macro avg       0.76      0.54      0.53      1771\n",
            "weighted avg       0.81      0.84      0.78      1771\n",
            "\n"
          ]
        }
      ]
    },
    {
      "cell_type": "markdown",
      "source": [
        "Gauging *Features*"
      ],
      "metadata": {
        "id": "UjI_2cg7UQYv"
      }
    },
    {
      "cell_type": "code",
      "source": [
        "from sklearn.svm import SVC\n",
        "\n",
        "svm = SVC(C=0.001, kernel='linear')\n",
        "svm.fit(X_train, y_train)\n",
        "\n",
        "coefficients = svm.coef_[0]\n",
        "\n",
        "feature_names =['DOJ Extended','Duration to accept offer', 'Notice period', 'Offered band', 'Pecent hike expected in CTC', 'Percent hike offered in CTC', 'Percent difference CTC', 'Joining Bonus', 'Candidate relocate actual', 'Gender', 'Candidate Source', 'Rex in Yrs', 'LOB', 'Location', 'Age', 'Status']\n",
        "\n",
        "feature_coefficients = dict(zip(feature_names, coefficients))\n",
        "\n",
        "sorted_features = sorted(feature_coefficients.items(), key=lambda x: abs(x[1]), reverse=True)\n",
        "\n",
        "for feature, coefficient in sorted_features:\n",
        "    print(f\"{feature}: {coefficient}\")\n"
      ],
      "metadata": {
        "colab": {
          "base_uri": "https://localhost:8080/"
        },
        "id": "eJXvZ9IVUTW9",
        "outputId": "58ee8b45-024b-45d0-b5de-e70b18c95cfe"
      },
      "execution_count": null,
      "outputs": [
        {
          "output_type": "stream",
          "name": "stdout",
          "text": [
            "Candidate relocate actual: 0.0004981891306072991\n",
            "Percent hike offered in CTC: 0.0004167138229326068\n",
            "Pecent hike expected in CTC: -0.0003312794851312701\n",
            "Percent difference CTC: -0.00029806460649069936\n",
            "Location: -0.00011346260284086787\n",
            "Offered band: -6.461111236989465e-05\n",
            "Joining Bonus: -6.195562840474137e-05\n",
            "Notice period: -5.532117386905023e-05\n",
            "LOB: 5.428786499272987e-05\n",
            "Age: 4.641730982175179e-05\n",
            "Rex in Yrs: 3.584079762248551e-05\n",
            "Candidate Source: 3.3079834029717535e-05\n",
            "DOJ Extended: 2.7040426902576317e-05\n",
            "Duration to accept offer: -1.2770889593905974e-05\n",
            "Gender: -3.7358466275082703e-06\n"
          ]
        }
      ]
    },
    {
      "cell_type": "markdown",
      "source": [
        "# **Gradient Boosting**"
      ],
      "metadata": {
        "id": "TvZUlEl6hzsx"
      }
    },
    {
      "cell_type": "code",
      "source": [
        "import xgboost as xgb\n",
        "xgb_classifier = xgb.XGBClassifier()\n",
        "xgb_classifier.fit(X_train, y_train)\n",
        "y_pred = xgb_classifier.predict(X_test)\n",
        "\n",
        "print(classification_report(y_test, y_pred))"
      ],
      "metadata": {
        "id": "qMPUt93EiR-x",
        "colab": {
          "base_uri": "https://localhost:8080/"
        },
        "outputId": "9db371f5-f70a-4050-ac59-bc62005fa87e"
      },
      "execution_count": null,
      "outputs": [
        {
          "output_type": "stream",
          "name": "stdout",
          "text": [
            "              precision    recall  f1-score   support\n",
            "\n",
            "           0       0.37      0.18      0.24       300\n",
            "           1       0.85      0.94      0.89      1471\n",
            "\n",
            "    accuracy                           0.81      1771\n",
            "   macro avg       0.61      0.56      0.57      1771\n",
            "weighted avg       0.77      0.81      0.78      1771\n",
            "\n"
          ]
        }
      ]
    },
    {
      "cell_type": "markdown",
      "source": [
        "*Parameter optimization by finding best parameters*"
      ],
      "metadata": {
        "id": "ZM-jPH8FRQOJ"
      }
    },
    {
      "cell_type": "code",
      "source": [
        "from sklearn.model_selection import GridSearchCV\n",
        "import xgboost as xgb\n",
        "from sklearn.model_selection import train_test_split\n",
        "\n",
        "\n",
        "\n",
        "\n",
        "\n",
        "\n",
        "param_grid = {\n",
        "    'learning_rate': [0.01, 0.1, 0.2],\n",
        "    'max_depth': [3, 4, 5],\n",
        "    'n_estimators': [50, 100, 200],\n",
        "    'reg_alpha': [0, 1, 2],\n",
        "    'reg_lambda': [0, 1, 2]\n",
        "}\n",
        "\n",
        "\n",
        "xgb_classifier = xgb.XGBClassifier()\n",
        "\n",
        "\n",
        "grid_search = GridSearchCV(xgb_classifier, param_grid, cv=5, scoring='accuracy')\n",
        "grid_search.fit(X_train, y_train)\n",
        "\n",
        "\n",
        "best_params = grid_search.best_params_\n",
        "best_accuracy = grid_search.best_score_\n",
        "\n",
        "\n",
        "best_xgb_classifier = xgb.XGBClassifier(**best_params)\n",
        "\n",
        "\n",
        "best_xgb_classifier.fit(X_train, y_train)\n",
        "\n",
        "\n",
        "test_accuracy = best_xgb_classifier.score(X_test, y_test)\n",
        "\n",
        "print(\"Best Hyperparameters:\", best_params)\n",
        "print(\"Best Training Accuracy:\", best_accuracy)\n",
        "print(\"Test Accuracy with Best Hyperparameters:\", test_accuracy)\n"
      ],
      "metadata": {
        "id": "7KOQz7hCt_hN",
        "colab": {
          "base_uri": "https://localhost:8080/"
        },
        "outputId": "92212dca-4485-4db7-bb97-46163b472808"
      },
      "execution_count": null,
      "outputs": [
        {
          "output_type": "stream",
          "name": "stdout",
          "text": [
            "Best Hyperparameters: {'learning_rate': 0.1, 'max_depth': 4, 'n_estimators': 100, 'reg_alpha': 1, 'reg_lambda': 1}\n",
            "Best Training Accuracy: 0.8235404896421846\n",
            "Test Accuracy with Best Hyperparameters: 0.8334274421230943\n"
          ]
        }
      ]
    },
    {
      "cell_type": "markdown",
      "source": [
        "# Gauging Parameters"
      ],
      "metadata": {
        "id": "km_-aH1tU6g9"
      }
    },
    {
      "cell_type": "code",
      "source": [
        "import xgboost as xgb\n",
        "\n",
        "xgb_model = xgb.XGBClassifier()\n",
        "xgb_model.fit(X_train, y_train)\n",
        "\n",
        "feature_importances = xgb_model.feature_importances_\n",
        "\n",
        "feature_names =['DOJ Extended','Duration to accept offer', 'Notice period', 'Offered band', 'Pecent hike expected in CTC', 'Percent hike offered in CTC', 'Percent difference CTC', 'Joining Bonus', 'Candidate relocate actual', 'Gender', 'Candidate Source', 'Rex in Yrs', 'LOB', 'Location', 'Age', 'Status']\n",
        "\n",
        "feature_importance = dict(zip(feature_names, feature_importances))\n",
        "\n",
        "sorted_features = sorted(feature_importance.items(), key=lambda x: x[1], reverse=True)\n",
        "\n",
        "for feature, importance in sorted_features:\n",
        "    print(f\"{feature}: {importance}\")\n"
      ],
      "metadata": {
        "colab": {
          "base_uri": "https://localhost:8080/"
        },
        "id": "Yummaa98U-Vt",
        "outputId": "477b8ce9-f2be-4caa-a61e-ce4d935b73ad"
      },
      "execution_count": null,
      "outputs": [
        {
          "output_type": "stream",
          "name": "stdout",
          "text": [
            "Candidate relocate actual: 0.5048701167106628\n",
            "Notice period: 0.0628712996840477\n",
            "Candidate Source: 0.03988249972462654\n",
            "Joining Bonus: 0.03945528715848923\n",
            "LOB: 0.039264269173145294\n",
            "Offered band: 0.03813832625746727\n",
            "Duration to accept offer: 0.036936674267053604\n",
            "Gender: 0.03226175904273987\n",
            "DOJ Extended: 0.031250860542058945\n",
            "Location: 0.03101413883268833\n",
            "Percent difference CTC: 0.03032580390572548\n",
            "Age: 0.028991863131523132\n",
            "Pecent hike expected in CTC: 0.028897205367684364\n",
            "Rex in Yrs: 0.02830788865685463\n",
            "Percent hike offered in CTC: 0.027531979605555534\n"
          ]
        }
      ]
    },
    {
      "cell_type": "markdown",
      "source": [
        "# **Random Forest**"
      ],
      "metadata": {
        "id": "JoIm-KJHRT64"
      }
    },
    {
      "cell_type": "code",
      "source": [
        "from sklearn.ensemble import RandomForestClassifier\n",
        "\n",
        "rf_classifier = RandomForestClassifier()\n",
        "\n",
        "\n",
        "rf_classifier.fit(X_train, y_train)\n",
        "\n",
        "\n",
        "y_pred = rf_classifier.predict(X_test)\n",
        "\n",
        "print(classification_report(y_test, y_pred))"
      ],
      "metadata": {
        "colab": {
          "base_uri": "https://localhost:8080/"
        },
        "id": "5lSgQktditJJ",
        "outputId": "b1958453-6bf0-4215-b767-a4d9cca76f2c"
      },
      "execution_count": null,
      "outputs": [
        {
          "output_type": "stream",
          "name": "stdout",
          "text": [
            "              precision    recall  f1-score   support\n",
            "\n",
            "           0       0.50      0.16      0.25       326\n",
            "           1       0.84      0.96      0.90      1445\n",
            "\n",
            "    accuracy                           0.82      1771\n",
            "   macro avg       0.67      0.56      0.57      1771\n",
            "weighted avg       0.78      0.82      0.78      1771\n",
            "\n"
          ]
        }
      ]
    },
    {
      "cell_type": "markdown",
      "source": [
        "*Parameter optimization by finding best parameters*"
      ],
      "metadata": {
        "id": "5FMrbq5RRZnO"
      }
    },
    {
      "cell_type": "code",
      "source": [
        "from sklearn.model_selection import GridSearchCV\n",
        "from sklearn.ensemble import RandomForestClassifier\n",
        "from sklearn.model_selection import train_test_split\n",
        "\n",
        "\n",
        "\n",
        "\n",
        "\n",
        "param_grid = {\n",
        "    'n_estimators': [50, 100, 200],\n",
        "    'max_depth': [None, 10, 20, 30],\n",
        "    'min_samples_split': [2, 5, 10],\n",
        "    'min_samples_leaf': [1, 2, 4],\n",
        "}\n",
        "\n",
        "rf = RandomForestClassifier()\n",
        "\n",
        "grid_search = GridSearchCV(rf, param_grid, cv=5, scoring='accuracy')\n",
        "grid_search.fit(X_train, y_train)\n",
        "\n",
        "best_params = grid_search.best_params_\n",
        "best_accuracy = grid_search.best_score_\n",
        "\n",
        "best_rf = RandomForestClassifier(**best_params)\n",
        "\n",
        "best_rf.fit(X_train, y_train)\n",
        "\n",
        "test_accuracy = best_rf.score(X_test, y_test)\n",
        "\n",
        "print(\"Best Hyperparameters:\", best_params)\n",
        "print(\"Best Training Accuracy:\", best_accuracy)\n",
        "print(\"Test Accuracy with Best Hyperparameters:\", test_accuracy)\n"
      ],
      "metadata": {
        "id": "UXaSDsM1uXOX",
        "colab": {
          "base_uri": "https://localhost:8080/"
        },
        "outputId": "2bd523ea-ae0f-4ae4-9ec7-9a660a61f833"
      },
      "execution_count": null,
      "outputs": [
        {
          "output_type": "stream",
          "name": "stdout",
          "text": [
            "Best Hyperparameters: {'max_depth': 30, 'min_samples_leaf': 2, 'min_samples_split': 10, 'n_estimators': 100}\n",
            "Best Training Accuracy: 0.8188323917137478\n",
            "Test Accuracy with Best Hyperparameters: 0.841897233201581\n"
          ]
        }
      ]
    },
    {
      "cell_type": "markdown",
      "source": [
        "# **Comparison Of the Models**"
      ],
      "metadata": {
        "id": "NhmgIrO0RdHu"
      }
    },
    {
      "cell_type": "code",
      "source": [
        "from sklearn.model_selection import cross_val_score\n",
        "from sklearn.ensemble import RandomForestClassifier\n",
        "from sklearn.svm import SVC\n",
        "from sklearn.linear_model import LogisticRegression\n",
        "from sklearn.neighbors import KNeighborsClassifier\n",
        "from sklearn.naive_bayes import GaussianNB\n",
        "from sklearn.tree import DecisionTreeClassifier\n",
        "from sklearn.ensemble import GradientBoostingClassifier\n",
        "\n",
        "models = [\n",
        "    ('Random Forest', RandomForestClassifier()),\n",
        "    ('SVM', SVC()),\n",
        "    ('Logistic Regression', LogisticRegression()),\n",
        "    ('K-Nearest Neighbors', KNeighborsClassifier()),\n",
        "\n",
        "\n",
        "    ('Gradient Boosting', GradientBoostingClassifier())\n",
        "]\n",
        "\n",
        "\n",
        "results = []\n",
        "model_names = []\n",
        "\n",
        "for model_name, model in models:\n",
        "    scores = cross_val_score(model, X_train, y_train, cv=5)\n",
        "    results.append(scores)\n",
        "    model_names.append(model_name)\n",
        "\n",
        "\n",
        "for i in range(len(model_names)):\n",
        "    print(f\"{model_names[i]}: Mean Accuracy = {results[i].mean():.3f}, Std Dev = {results[i].std():.3f}\")\n"
      ],
      "metadata": {
        "colab": {
          "base_uri": "https://localhost:8080/"
        },
        "id": "rjQ79jLapeJy",
        "outputId": "8cbc0485-b6e3-4e68-e42d-6c8ca8bb3835"
      },
      "execution_count": null,
      "outputs": [
        {
          "output_type": "stream",
          "name": "stdout",
          "text": [
            "Random Forest: Mean Accuracy = 0.816, Std Dev = 0.002\n",
            "SVM: Mean Accuracy = 0.813, Std Dev = 0.001\n",
            "Logistic Regression: Mean Accuracy = 0.811, Std Dev = 0.004\n",
            "K-Nearest Neighbors: Mean Accuracy = 0.796, Std Dev = 0.005\n",
            "Gradient Boosting: Mean Accuracy = 0.822, Std Dev = 0.004\n"
          ]
        }
      ]
    }
  ]
}